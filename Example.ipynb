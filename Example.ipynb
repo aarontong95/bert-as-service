{
 "cells": [
  {
   "cell_type": "code",
   "execution_count": 1,
   "metadata": {},
   "outputs": [],
   "source": [
    "from bert_serving.client import BertClient"
   ]
  },
  {
   "cell_type": "code",
   "execution_count": 2,
   "metadata": {},
   "outputs": [],
   "source": [
    "bc = BertClient(port=5559,port_out=5560,check_version=False)"
   ]
  },
  {
   "cell_type": "code",
   "execution_count": 77,
   "metadata": {},
   "outputs": [
    {
     "data": {
      "text/plain": [
       "(array([[9.9998784e-01, 1.2155430e-05]], dtype=float32),\n",
       " [['[CLS]',\n",
       "   'how',\n",
       "   'old',\n",
       "   'are',\n",
       "   'you',\n",
       "   '?',\n",
       "   '[SEP]',\n",
       "   'i',\n",
       "   'am',\n",
       "   '13',\n",
       "   '.',\n",
       "   '[SEP]']])"
      ]
     },
     "execution_count": 77,
     "metadata": {},
     "output_type": "execute_result"
    }
   ],
   "source": [
    "bc.encode(['How old are you? ||| I am 13.'], show_tokens=True)"
   ]
  },
  {
   "cell_type": "code",
   "execution_count": 78,
   "metadata": {},
   "outputs": [
    {
     "data": {
      "text/plain": [
       "(array([[0.9846817 , 0.01531826]], dtype=float32),\n",
       " [['[CLS]',\n",
       "   'where',\n",
       "   'is',\n",
       "   'it',\n",
       "   '?',\n",
       "   '[SEP]',\n",
       "   'the',\n",
       "   'e',\n",
       "   '##iff',\n",
       "   '##el',\n",
       "   'tower',\n",
       "   'is',\n",
       "   'in',\n",
       "   'par',\n",
       "   '##is',\n",
       "   '.',\n",
       "   '[SEP]']])"
      ]
     },
     "execution_count": 78,
     "metadata": {},
     "output_type": "execute_result"
    }
   ],
   "source": [
    "bc.encode(['Where is it? ||| The Eiffel Tower is in Paris.'], show_tokens=True)"
   ]
  },
  {
   "cell_type": "code",
   "execution_count": 76,
   "metadata": {},
   "outputs": [
    {
     "data": {
      "text/plain": [
       "(array([[0.05569109, 0.94430894]], dtype=float32),\n",
       " [['[CLS]',\n",
       "   'how',\n",
       "   'old',\n",
       "   'are',\n",
       "   'you',\n",
       "   '?',\n",
       "   '[SEP]',\n",
       "   'the',\n",
       "   'e',\n",
       "   '##iff',\n",
       "   '##el',\n",
       "   'tower',\n",
       "   'is',\n",
       "   'in',\n",
       "   'par',\n",
       "   '##is',\n",
       "   '.',\n",
       "   '[SEP]']])"
      ]
     },
     "execution_count": 76,
     "metadata": {},
     "output_type": "execute_result"
    }
   ],
   "source": [
    "bc.encode(['How old are you? ||| The Eiffel Tower is in Paris.'], show_tokens=True)"
   ]
  }
 ],
 "metadata": {
  "kernelspec": {
   "display_name": "Python 3",
   "language": "python",
   "name": "python3"
  },
  "language_info": {
   "codemirror_mode": {
    "name": "ipython",
    "version": 3
   },
   "file_extension": ".py",
   "mimetype": "text/x-python",
   "name": "python",
   "nbconvert_exporter": "python",
   "pygments_lexer": "ipython3",
   "version": "3.6.5"
  }
 },
 "nbformat": 4,
 "nbformat_minor": 2
}
